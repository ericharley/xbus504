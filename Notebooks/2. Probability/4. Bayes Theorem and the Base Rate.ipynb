{
 "cells": [
  {
   "cell_type": "markdown",
   "metadata": {},
   "source": [
    "## Bayes Theorem and the Base Rate Problem\n",
    "\n",
    "Suppose that at your regular physical exam you test positive for Disease X. Although Disease X has only mild symptoms, you are concerned and ask your doctor about the accuracy of the test. It turns out that the test is 99% accurate. It would appear that the probability that you have Disease X is therefore 0.99."
   ]
  },
  {
   "cell_type": "markdown",
   "metadata": {},
   "source": [
    "However, the situation is not that simple.\n",
    " \n",
    "For one thing, more information about the accuracy of the test is needed because there two kinds of errors the test can make: Misses (False negatives), and false positives.\n",
    " \n",
    "* If you actually had Disease X and the test failed to detect it, that would be a miss.\n",
    "\n",
    "* If you did not have Disease X and the test indicated you did, that would be a false positive.\n",
    "\n",
    "The miss and false positive rates are not necessarily the same.\n",
    "\n",
    "For example, lets say that the test accurately indicates the disease in 99% of the people who have it and accurately indicates no disease in 91% of the people who do not have it. This would mean that the test has a miss rate of 1% and a false positive rate of 9%.\n",
    "\n",
    "This might lead you to revise your judgment and conclude that your chance of having the disease is 0.09 rather than 0.05, should it?"
   ]
  },
  {
   "cell_type": "markdown",
   "metadata": {},
   "source": [
    "The missing piece is the prevelance of the disease in the population. The proportion of the people who have the disease is called the **base rate**. Assume that Disease X is a rare disease, and only 2% of people have it. How does that affect the probability that you have it? Or, what is the probability that someone who tests positive actually has the disease?"
   ]
  },
  {
   "cell_type": "markdown",
   "metadata": {},
   "source": [
    "We can compute the probability two ways. Say we have a population of 1 million people,"
   ]
  },
  {
   "cell_type": "code",
   "execution_count": 1,
   "metadata": {
    "scrolled": true
   },
   "outputs": [
    {
     "name": "stdout",
     "output_type": "stream",
     "text": [
      "chance you have the disease if you test positive for it is 0.18333333333333332\n",
      "chance you have the disease if you test negative for it is 0.0002242152466367713\n"
     ]
    }
   ],
   "source": [
    "N = 1000000\n",
    "base_rate = 0.02\n",
    "\n",
    "num_disease = N * base_rate\n",
    "num_no_disease = N - num_disease\n",
    "\n",
    "num_positive_no_disease = num_no_disease * 0.09\n",
    "num_negative_no_disease = num_no_disease * 0.91\n",
    "\n",
    "num_positive_disease = num_disease * 0.99\n",
    "num_negative_disease = num_disease * 0.01\n",
    "\n",
    "# of the people who tested positive, what fraction actually have the disease\n",
    "true_positive = num_positive_disease / (num_positive_disease+num_positive_no_disease)\n",
    "print('chance you have the disease if you test positive for it is', true_positive )\n",
    "\n",
    "# of the people who tested negative, what fraction actually have the disease\n",
    "false_negative = num_negative_disease / (num_negative_disease+num_negative_no_disease)\n",
    "print('chance you have the disease if you test negative for it is', false_negative )"
   ]
  },
  {
   "cell_type": "markdown",
   "metadata": {},
   "source": [
    "Summary:\n",
    "\n",
    "* Then 20,000 people actually have the disease, and 980,000 do not.\n",
    "\n",
    "* Of the 980,000 people who do not have the disease, 9% or 88,200 people will get a false positive on the test and the rest will test negative.\n",
    "\n",
    "* Of the 20,000 people who do have the disease, 99% or 19,800 people will get a true positive on the test and the other 200 will get a false negative (1% miss rate)"
   ]
  },
  {
   "cell_type": "markdown",
   "metadata": {},
   "source": [
    "<img src=\"images/base_rate.png\" width=50%>"
   ]
  },
  {
   "cell_type": "markdown",
   "metadata": {},
   "source": [
    "The numbers of people diagnosed with the disease are shown in red. Of the one million people tested, the test was correct for 891,000 of those without the disease and for 19,800 with the disease; the test was correct 91% of the time.\n",
    "\n",
    "However, if you look only at the people testing positive (shown in red), only 19,800 (0.1833) of the 911,600 testing positive actually have the disease.\n",
    "\n",
    "To sum up, 19,800 people who tested positive would actually have the disease and 88,200 people who tested positive would not have the disease.\n",
    "\n",
    "This means that of all those who tested positive, only 19,800/(19,800 + 88,200) = 0.1833 would actually have the disease. So the probability that you have the disease is only 18.33% (!!)"
   ]
  },
  {
   "cell_type": "markdown",
   "metadata": {},
   "source": [
    "**Q**: How does the True Positive rate vary with the Base Rate?"
   ]
  },
  {
   "cell_type": "code",
   "execution_count": null,
   "metadata": {
    "scrolled": false
   },
   "outputs": [],
   "source": [
    "import numpy as np\n",
    "import matplotlib.pyplot as plt\n",
    "\n",
    "N = 1000000\n",
    "\n",
    "x = np.linspace(0.01,0.99,1000)\n",
    "y = []\n",
    "for base_rate in x:\n",
    "\n",
    "    true_positive = ...\n",
    "    \n",
    "    y.append(true_positive)\n",
    "    \n",
    "plt.plot(x,y,'k-')\n",
    "plt.show()"
   ]
  },
  {
   "cell_type": "markdown",
   "metadata": {},
   "source": [
    "What would happen if one million people were tested?\n",
    "\n",
    "1. Out of these one million people, 2% or 20,000 people would have the disease.\n",
    "2. Of these 20,000 with the disease, the test would accurately detect it in 99% of them. This means that 19,800 cases would be accurately identified.\n",
    "3. Now consider the 98% of the one million people (980,000) who do not have the disease. Since the false positive rate is 0.09, 9% of these 980,000 people will test positive for the disease. This is a total of **88,200 people incorrectly diagnosed**. "
   ]
  },
  {
   "cell_type": "markdown",
   "metadata": {},
   "source": [
    "**Q**: How does the False Positive rate vary with the Base Rate?"
   ]
  },
  {
   "cell_type": "code",
   "execution_count": null,
   "metadata": {
    "scrolled": true
   },
   "outputs": [],
   "source": [
    "import numpy as np\n",
    "import matplotlib.pyplot as plt\n",
    "\n",
    "N = 1000000\n",
    "\n",
    "x = np.linspace(0.01,0.08,1000)\n",
    "y = []\n",
    "for base_rate in x:\n",
    "\n",
    "    false_positive = ...\n",
    "    \n",
    "    y.append(false_positive)\n",
    "    \n",
    "plt.plot(x,y,'k-')\n",
    "plt.show()"
   ]
  },
  {
   "cell_type": "markdown",
   "metadata": {},
   "source": [
    "Bayes' theorem is stated mathematically as the following equation\n",
    "\n",
    "$$ P(A\\mid B) = \\frac{P(B \\mid A) \\, P(A)}{P(B)} $$\n",
    "\n",
    "where $A$ and $B$ are events and $P(B) \\neq 0$.\n",
    "\n",
    "It is often useful to compute $P(B)$ using the law of total probability:\n",
    "\n",
    "$$P(B) = {\\sum_j P(B\\mid A_j) P(A_j)},$$\n",
    "$$\\Rightarrow P(A_i\\mid B) = \\frac{P(B\\mid A_i)\\,P(A_i)}{\\sum\\limits_j P(B\\mid A_j)\\,P(A_j)}$$\n",
    "\n",
    "In the special case where $A$ is a dichotomous outcome:\n",
    "\n",
    "$$P(A\\mid B) = \\frac{P(B\\mid A)\\,P(A)}{ P(B\\mid A) P(A) + P(B\\mid A^c) P(A^c)}$$\n"
   ]
  },
  {
   "cell_type": "markdown",
   "metadata": {},
   "source": [
    "In our example, we let $A$ be the event that you have the disease, and $B$ the event that you test positive. Then by Bayes' theorem,\n",
    "\n",
    "From the problem statement,\n",
    "\n",
    "* $P(A) = P(\\mbox{disease}) = 0.02$, so $P(A^c) = P(\\mbox{no disease}) = 0.98$\n",
    "* $P(B | A) = P(\\mbox{test positive}~|~   \\mbox{disease}) = 0.99$\n",
    "* $P(B | A^c) = P(\\mbox{test positive}~|~\\mbox{no disease}) = 0.09$  \n",
    "\n",
    "Then by Bayes' rule\n",
    "\n",
    "$$P(\\mbox{disease}~|~\\mbox{test positive}) = P(A\\mid B) = \\frac{P(B\\mid A)\\,P(A)}{ P(B\\mid A) P(A) + P(B\\mid A^c) P(A^c)} =  \\frac{0.99 \\cdot 0.02}{ 0.99 \\cdot 0.02 + 0.09 \\cdot 0.98} \\approx 0.183$$"
   ]
  },
  {
   "cell_type": "code",
   "execution_count": null,
   "metadata": {},
   "outputs": [],
   "source": []
  }
 ],
 "metadata": {
  "kernelspec": {
   "display_name": "Python 3",
   "language": "python",
   "name": "python3"
  },
  "language_info": {
   "codemirror_mode": {
    "name": "ipython",
    "version": 3
   },
   "file_extension": ".py",
   "mimetype": "text/x-python",
   "name": "python",
   "nbconvert_exporter": "python",
   "pygments_lexer": "ipython3",
   "version": "3.6.3"
  }
 },
 "nbformat": 4,
 "nbformat_minor": 2
}
