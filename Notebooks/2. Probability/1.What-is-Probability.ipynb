{
 "cells": [
  {
   "cell_type": "markdown",
   "metadata": {
    "toc": "true"
   },
   "source": [
    "# Table of Contents\n",
    " <p><div class=\"lev1 toc-item\"><a href=\"#What-is-Probability-Theory?\" data-toc-modified-id=\"What-is-Probability-Theory?-1\"><span class=\"toc-item-num\">1&nbsp;&nbsp;</span>What is Probability Theory?</a></div><div class=\"lev2 toc-item\"><a href=\"#A-simple-(?)-question\" data-toc-modified-id=\"A-simple-(?)-question-11\"><span class=\"toc-item-num\">1.1&nbsp;&nbsp;</span>A simple (?) question</a></div><div class=\"lev2 toc-item\"><a href=\"#Simulating-coin-flips\" data-toc-modified-id=\"Simulating-coin-flips-12\"><span class=\"toc-item-num\">1.2&nbsp;&nbsp;</span>Simulating coin flips</a></div><div class=\"lev2 toc-item\"><a href=\"#Summary\" data-toc-modified-id=\"Summary-13\"><span class=\"toc-item-num\">1.3&nbsp;&nbsp;</span>Summary</a></div><div class=\"lev1 toc-item\"><a href=\"#What-is-probability-theory?\" data-toc-modified-id=\"What-is-probability-theory?-2\"><span class=\"toc-item-num\">2&nbsp;&nbsp;</span>What is probability theory?</a></div>"
   ]
  },
  {
   "cell_type": "code",
   "execution_count": 6,
   "metadata": {
    "slideshow": {
     "slide_type": "skip"
    }
   },
   "outputs": [
    {
     "name": "stdout",
     "output_type": "stream",
     "text": [
      "Populating the interactive namespace from numpy and matplotlib\n"
     ]
    },
    {
     "name": "stderr",
     "output_type": "stream",
     "text": [
      "/Users/harley/anaconda3/lib/python3.6/site-packages/IPython/core/magics/pylab.py:160: UserWarning: pylab import has clobbered these variables: ['sqrt']\n",
      "`%matplotlib` prevents importing * from pylab and numpy\n",
      "  \"\\n`%matplotlib` prevents importing * from pylab and numpy\"\n"
     ]
    }
   ],
   "source": [
    "%pylab inline"
   ]
  },
  {
   "cell_type": "markdown",
   "metadata": {
    "slideshow": {
     "slide_type": "slide"
    }
   },
   "source": [
    "# What is Probability Theory?"
   ]
  },
  {
   "cell_type": "markdown",
   "metadata": {
    "slideshow": {
     "slide_type": "fragment"
    }
   },
   "source": [
    "* Probability Theory is a **mathematical** framework for computing the probability of complex events.\n",
    "* Under the assumption that **we know the probabilities of the basic events.**\n",
    "* What is the precise meaning of <font color='red'>\"probability\"</font> and <font color='red'>\"event\"</font>?\n",
    "* For now, we'll rely on common sense."
   ]
  },
  {
   "cell_type": "markdown",
   "metadata": {
    "slideshow": {
     "slide_type": "slide"
    }
   },
   "source": [
    "## A simple (?) question\n",
    "We all know that if one flips a fair coin then the outcome is \"heads\" or \"tails\" with equal probabilities."
   ]
  },
  {
   "cell_type": "markdown",
   "metadata": {
    "slideshow": {
     "slide_type": "fragment"
    }
   },
   "source": [
    "What does that mean? \n",
    "\n",
    "It means that if we flip the coin $k$ times, for some large value of $k$, say $k=10,000$, \n",
    "\n",
    "Then the number of \"heads\" is **about** $\\frac{k}{2}=\\frac{10,000}{2} = 5,000$\n",
    "\n",
    "What do we mean by **about** ??"
   ]
  },
  {
   "cell_type": "markdown",
   "metadata": {
    "slideshow": {
     "slide_type": "slide"
    }
   },
   "source": [
    "## Simulating coin flips\n",
    "\n",
    "We will use the pseudo random number generators in `numpy` to simulate the coin flips. \n",
    "\n",
    "instead of \"Heads\" and \"Tails\" we will use $x_i=1$ or $x_i=-1$ and consider the sum $S_{10000} = x_1+x_2+\\cdots+x_{10000}$.\n",
    "\n",
    "If the number of heads is about 5,000 then $S_{10000}\\approx 0$\n",
    "\n",
    "We will vary the number of coin flips, which we denote by $k$"
   ]
  },
  {
   "cell_type": "code",
   "execution_count": 7,
   "metadata": {
    "code_folding": [],
    "slideshow": {
     "slide_type": "subslide"
    }
   },
   "outputs": [],
   "source": [
    "# Generate the sum of k coin flips, repeat that n times\n",
    "def generate_counts(k=1000,n=100):\n",
    "    X=2*(random.rand(k,n)>0.5)-1  # generate a kXn matrix of +-1 random numbers\n",
    "    S=sum(X,axis=0) \n",
    "    return S "
   ]
  },
  {
   "cell_type": "code",
   "execution_count": 8,
   "metadata": {
    "hide_input": true,
    "scrolled": false,
    "slideshow": {
     "slide_type": "subslide"
    }
   },
   "outputs": [
    {
     "data": {
      "image/png": "[encoded data removed]",
      "text/plain": [
       "<matplotlib.figure.Figure at 0x1090d2978>"
      ]
     },
     "metadata": {},
     "output_type": "display_data"
    }
   ],
   "source": [
    "k=1000\n",
    "n=1000\n",
    "counts=generate_counts(k=k,n=n)\n",
    "figure(figsize=[10,4])\n",
    "hist(counts);\n",
    "xlim([-k,k])\n",
    "xlabel(\"sum\")\n",
    "ylabel(\"count\")\n",
    "title(\"Histogram of coin flip sum when flipping a fair coin %d times\"%k)\n",
    "grid()"
   ]
  },
  {
   "cell_type": "markdown",
   "metadata": {
    "slideshow": {
     "slide_type": "fragment"
    }
   },
   "source": [
    "Note that the sum $S_{1000}$ is not **exactly** $0$, it is only **close to** $0$.\n",
    "\n",
    "Using **probability theory** we can calculate **how small** is $\\big|S_k\\big|$\n",
    "\n",
    "we can show that the probability that \n",
    "$$\\big| S_k \\big| \\geq 4\\sqrt{k}$$\n",
    "is smaller than $2 \\times 10^{-8}$ which is $0.000002\\%$\n",
    "\n",
    "Let's use a simulation to demonstrate that this is the case:"
   ]
  },
  {
   "cell_type": "code",
   "execution_count": 5,
   "metadata": {
    "hide_input": true,
    "slideshow": {
     "slide_type": "subslide"
    }
   },
   "outputs": [
    {
     "data": {
      "image/png": "[encoded data removed]",
      "text/plain": [
       "<matplotlib.figure.Figure at 0x10ead8d30>"
      ]
     },
     "metadata": {},
     "output_type": "display_data"
    }
   ],
   "source": [
    "figure(figsize=[13,3.5])\n",
    "for j in range(2,5):\n",
    "    k=10**j\n",
    "    counts=generate_counts(k=k,n=100)\n",
    "    subplot(130+j-1)\n",
    "    hist(counts,bins=10);\n",
    "    xlim([-k,k])\n",
    "    d=4*sqrt(k)\n",
    "    plot([-d,-d],[0,30],'r')\n",
    "    plot([+d,+d],[0,30],'r')\n",
    "    grid()\n",
    "    title('%d flips, bound=+-%6.1f'%(k,d))\n"
   ]
  },
  {
   "cell_type": "code",
   "execution_count": 9,
   "metadata": {
    "code_folding": [],
    "hide_input": true,
    "scrolled": true,
    "slideshow": {
     "slide_type": "subslide"
    }
   },
   "outputs": [
    {
     "data": {
      "image/png": "[encoded data removed]",
      "text/plain": [
       "<matplotlib.figure.Figure at 0x11215d080>"
      ]
     },
     "metadata": {},
     "output_type": "display_data"
    }
   ],
   "source": [
    "from math import sqrt\n",
    "figure(figsize=[13,3.5])\n",
    "for j in range(2,5):\n",
    "    k=10**j\n",
    "    counts=generate_counts(k=k,n=100)\n",
    "    subplot(130+j-1)\n",
    "    hist(counts,bins=10);\n",
    "    d=4*sqrt(k)\n",
    "    plot([-d,-d],[0,30],'r')\n",
    "    plot([+d,+d],[0,30],'r')\n",
    "    grid()\n",
    "    title('%d flips, bound=+-%6.1f'%(k,d))\n"
   ]
  },
  {
   "cell_type": "markdown",
   "metadata": {
    "slideshow": {
     "slide_type": "slide"
    }
   },
   "source": [
    "## Summary\n",
    "We did some experiments summing $k$ random numbers: $S_k=x_1+x_2+\\cdots+x_k$\n",
    "\n",
    "$x_i=-1$ with probability $1/2$, $x_i=+1$ with probability $1/2$\n",
    "\n",
    "Our experiments show that the sum $S_k$ is (almost) always in the range $\\big[-4\\sqrt{k},+4\\sqrt{k}\\big]$ \n",
    "\n",
    "\n",
    "$$\\mbox{ If } k \\to \\infty,\\;\\;\\; \\frac{4 \\sqrt{k}}{k} = \\frac{4}{\\sqrt{k}} \\to 0$$\n",
    "\n",
    "$$ \\mbox{Therefor if }\\;\\;k \\to \\infty,  \\frac{S_k}{k} \\to 0$$"
   ]
  },
  {
   "cell_type": "markdown",
   "metadata": {
    "slideshow": {
     "slide_type": "slide"
    }
   },
   "source": [
    "# What is probability theory?\n",
    "\n",
    "It is the math involved in **proving** (a precise version of) the statements above.\n",
    "\n",
    "In most cases, we can **approximate** probabilities using simulations (Monte-Carlo simulations)\n",
    "\n",
    "Calculating the probabilities is better because:\n",
    "\n",
    "* It provides a precise answer\n",
    "* It is much faster than Monte Carlo simulations."
   ]
  }
 ],
 "metadata": {
  "anaconda-cloud": {},
  "celltoolbar": "Slideshow",
  "kernelspec": {
   "display_name": "Python 3",
   "language": "python",
   "name": "python3"
  },
  "language_info": {
   "codemirror_mode": {
    "name": "ipython",
    "version": 3
   },
   "file_extension": ".py",
   "mimetype": "text/x-python",
   "name": "python",
   "nbconvert_exporter": "python",
   "pygments_lexer": "ipython3",
   "version": "3.6.3"
  },
  "toc": {
   "colors": {
    "hover_highlight": "#DAA520",
    "navigate_num": "#000000",
    "navigate_text": "#333333",
    "running_highlight": "#FF0000",
    "selected_highlight": "#FFD700",
    "sidebar_border": "#EEEEEE",
    "wrapper_background": "#FFFFFF"
   },
   "moveMenuLeft": true,
   "nav_menu": {
    "height": "66px",
    "width": "252px"
   },
   "navigate_menu": true,
   "number_sections": true,
   "sideBar": true,
   "threshold": 4,
   "toc_cell": true,
   "toc_position": {
    "height": "412px",
    "left": "0px",
    "right": "871.4px",
    "top": "134px",
    "width": "200px"
   },
   "toc_section_display": "block",
   "toc_window_display": false,
   "widenNotebook": false
  }
 },
 "nbformat": 4,
 "nbformat_minor": 2
}
