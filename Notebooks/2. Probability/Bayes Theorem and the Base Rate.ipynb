{
 "cells": [
  {
   "attachments": {},
   "cell_type": "markdown",
   "metadata": {},
   "source": [
    "You’ve tested positive for Disease X.\n",
    "\n",
    "The test is known to be 95% accurate.\n",
    "\n",
    "So, you’d think P(you have Disease X) would  be 0.95.\n",
    "\n",
    "Right?\n",
    "\n",
    "Suppose that at your regular physical exam you test positive for Disease X. Although Disease X has only mild symptoms, you are concerned and ask your doctor about the accuracy of the test. It turns out that the test is 95% accurate. It would appear that the probability that you have Disease X is therefore 0.95. However, the situation is not that simple.\n",
    "\n",
    "\n",
    "\n",
    "Misses: You have Disease X, but test negative\n",
    "False Positives: You don’t have Disease X, but test positive.\n",
    "Suppose there is a miss rate of 0.01 and a false positive rate of 0.09.\n",
    "So, you’d think :\n",
    "   P(have Disease X | test positive) = 0.91\n",
    "Right?\n",
    "\n",
    "\n",
    "For one thing, more information about the accuracy of the test is needed because there two kinds of errors the test can make: misses and false positives. If you actually had Disease X and the test failed to detect it, that would be a miss. If you did not have Disease X and the test indicated you did, that would be a false positive. The miss and false positive rates are not necessarily the same. For example, lets' say that the test accurately indicates the disease in 99% of the people who have it and accurately indicates no disease in 91% of the people who do not have it. This would mean that the test has a miss rate of 0.01 and a false positive rate of 0.09. This would lead you to revise your judgment and conclude that your chance of having the disease is 0.09 rather than 0.05. But should it?\n",
    "\n",
    "\n",
    "\n",
    "Hit rate = 0.99\n",
    "False positive rate = 0.09\n",
    "Base rate = 0.02\n",
    "Of 1,000,000 people:\n",
    "0.02 x 1,000,000 = 20,000 have disease\n",
    "0.99 x 20,000 =19,800 are hits\n",
    "980,000 do not have disease\n",
    "0.09 x 980,000 = 88,200 are false positives\n",
    "88,200 incorrectly diagnosed with the disease\n",
    "\n",
    "\n",
    "\n",
    "The analysis becomes complicated if more than or fewer than half the people in your situation have Disease X. The proportion of the people who have the disease is called the base rate.\n",
    "Assume that Disease X is a rare disease, and only 2% of people in your situation have it. How does that affect the probability that you have it? Or, more generally, what is the probability that someone who tests positive actually has the disease.\n",
    "Lets consider what would happen if one million people were tested. Out of these one million people, 2% or 20,000 people would have the disease. Of these 20,000 with the disease, the test would accurately detect it in 99% of them. This means that 19,800 cases would be accurately identified. Now lets consider the 98% of the one million people (980,000) who do not have the disease. Since the false positive rate is 0.09, 9% of these 980,000 people will test positive for the disease. This is a total of 88,200 people incorrectly diagnosed. \n",
    "\n",
    "\n",
    "Probability you have the disease given that you test positive is only\u000b",
    "19,800/(19,800 + 88,200) = 0.1833!\n",
    "\n",
    "These results are summarized in the Table. The numbers of people diagnosed with the disease are shown in red. Of the one million people tested, the test was correct for 891,000 of those without the disease and for 19,800 with the disease; the test was correct 91% of the time. However, if you look only at the people testing positive (shown in red), only 19,800 (0.1833) of the 911,600 testing positive actually have the disease.\n",
    "To sum up, 19,800 people who tested positive would actually have the disease and 88,200 people who tested positive would not have the disease. This means that of all those who tested positive, only\n",
    "19,800/(19,800 + 88,200) = 0.1833 would actually have the disease. So the probability that you have the disease is not 0.95, or 0.91, but only 0.1833.\n",
    "\n",
    "\n"
   ]
  }
 ],
 "metadata": {
  "kernelspec": {
   "display_name": "Python 3",
   "language": "python",
   "name": "python3"
  },
  "language_info": {
   "codemirror_mode": {
    "name": "ipython",
    "version": 3
   },
   "file_extension": ".py",
   "mimetype": "text/x-python",
   "name": "python",
   "nbconvert_exporter": "python",
   "pygments_lexer": "ipython3",
   "version": "3.6.3"
  }
 },
 "nbformat": 4,
 "nbformat_minor": 2
}
