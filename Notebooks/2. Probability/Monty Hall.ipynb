{
 "cells": [
  {
   "cell_type": "markdown",
   "metadata": {},
   "source": [
    "## Monty Hall Problem\n",
    "\n",
    "From Wikipedia:\n",
    "\n",
    "<img src=\"images/goat.png\">\n",
    "\n",
    "Suppose you're on a game show, and you're given the choice of three doors: Behind one door is a car; behind the others, goats. You pick a door, say No. 1, and the host, who knows what's behind the doors, opens another door, say No. 3, which has a goat. He then says to you, \"Do you want to pick door No. 2?\"\n",
    "\n",
    "**Is it to your advantage to switch your choice?**\n",
    "\n",
    "The problem was originally posed (and solved) in a letter by Steve Selvin to the American Statistician in 1975. It became famous as a question from a reader's letter quoted in Marilyn vos Savant's \"Ask Marilyn\" column in Parade magazine in 1990. Vos Savant's response was that the contestant should switch to the other door. Under the standard assumptions, contestants who switch have a 2/3 chance of winning the car, while contestants who stick to their initial choice have only a 1/3 chance.\n",
    "\n",
    "Many readers of vos Savant's column refused to believe switching is beneficial despite her explanation. After the problem appeared in Parade, approximately 10,000 readers, including nearly 1,000 with PhDs, wrote to the magazine, most of them claiming vos Savant was wrong (Tierney 1991). Even when given explanations, simulations, and formal mathematical proofs, many people still do not accept that switching is the best strategy. Paul Erdős, one of the most prolific mathematicians in history, remained unconvinced until he was shown a computer simulation demonstrating the predicted result.\n",
    "\n",
    "The problem is a paradox of the veridical type, because the correct choice (that one should switch doors) is so counterintuitive it can seem absurd, but is nevertheless demonstrably true. **Behold!**\n",
    "\n",
    "<img src=\"images/monty_state_space.png\">"
   ]
  },
  {
   "cell_type": "markdown",
   "metadata": {},
   "source": [
    "This is still unsatisfactory to some. Our intuition is that it doesn’t matter whether the contestant changes their choice because its equally probable that the car is behind either of the two unopened doors.\n",
    "\n",
    "Let's create a simple simulation to prove that there really is an advantage to changing the chosen door."
   ]
  },
  {
   "cell_type": "code",
   "execution_count": 1,
   "metadata": {},
   "outputs": [],
   "source": [
    "doors = ['🐐', '🐐', '🚗']\n",
    "change_wins = 0\n",
    "change_loses = 0\n",
    "\n",
    "for i in range(samples):\n",
    "\n",
    "    # Assign the car to a random door\n",
    "    random.shuffle(doors)\n",
    "\n",
    "    # Contestant picks a door\n",
    "    n = random.randint(0,2)\n",
    "    \n",
    "    # Monty picks a door to open that the contestant didn't choose, *and* doesn't have a car behind it.\n",
    "    sequence = [0,1,2]\n",
    "    random.shuffle(sequence)\n",
    "    for k in sequence:\n",
    "        if k == n or doors[k] == '🚗':\n",
    "            continue\n",
    "\n",
    "    # Would we win if we switch?\n",
    "    if doors[n] == \"🚗\":\n",
    "        change_loses += 1\n",
    "    else:\n",
    "        change_wins += 1"
   ]
  },
  {
   "cell_type": "code",
   "execution_count": 47,
   "metadata": {},
   "outputs": [
    {
     "name": "stdout",
     "output_type": "stream",
     "text": [
      "Switching has 3378 wins and 1622 losses\n",
      "Switching wins 67.6% of the time\n"
     ]
    }
   ],
   "source": [
    "print (\"Switching has %s wins and %s losses\" % (change_wins, change_loses))\n",
    "perc = (100.0 * change_wins) / (change_wins + change_loses)\n",
    "print (\"Switching wins %.1f%% of the time\" % perc)"
   ]
  },
  {
   "cell_type": "markdown",
   "metadata": {},
   "source": [
    "Because Monty Hall cannot reveal what is behind the chosen door, when Monty Hall reveals what is behind one of the unchosen doors, this has no impact on how likely the car is to appear behind the chosen door. Yet, the probability that the car is behind the revealed door drops to 0 (because Monty Hall shows there’s a goat behind it), and the total probability must still add to 1 so the probability that the car is behind the second unchosen door goes up. Thus, the unchosen and unrevealed door becomes 66% likely to contain the car."
   ]
  }
 ],
 "metadata": {
  "kernelspec": {
   "display_name": "Python 3",
   "language": "python",
   "name": "python3"
  },
  "language_info": {
   "codemirror_mode": {
    "name": "ipython",
    "version": 3
   },
   "file_extension": ".py",
   "mimetype": "text/x-python",
   "name": "python",
   "nbconvert_exporter": "python",
   "pygments_lexer": "ipython3",
   "version": "3.6.3"
  }
 },
 "nbformat": 4,
 "nbformat_minor": 2
}
