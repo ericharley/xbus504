{
 "cells": [
  {
   "cell_type": "markdown",
   "metadata": {},
   "source": [
    "# Nonparametric Statistics: Sign Test\n",
    "\n",
    "Many statistical tests require that your data follow a [Normal distribution](https://en.wikipedia.org/wiki/Normal_distribution). Sometimes this is not the case. In some instances it is possible to [transform the data](https://en.wikipedia.org/wiki/Data_transformation_(statistics)) to make them follow a Normal distribution; in others this is not possible or the sample size might be so small that it is difficult to ascertain whether or not the data a normally distributed. In such cases it is necessary to use a statistical test that does not require the data to follow a particular distribution. Such a test is called a [non-parametric](https://en.wikipedia.org/wiki/Nonparametric_statistics) or _distribution free test_. The [Sign Test](https://en.wikipedia.org/wiki/Sign_test) is an example of one of these.\n",
    "\n",
    "The sign test is used to test the null hypothesis that the median of a distribution is equal to some value. It can be used in place of a one-sample $t$-test, or a paired $t$-test when the assumption of normality of the underlying population cannot be made.\n",
    "\n",
    "The sign test requires only that the observations in a pair be ordered. In some cases, the observations for all subjects can be assigned a rank value $(1, 2, 3, \\dots)$. If the observations can be ranked, and each observation in a pair is a random sample from a symmetric distribution, then the [Wilcoxon Signed Rank Test](https://en.wikipedia.org/wiki/Wilcoxon_signed-rank_test) is appropriate. The Wilcoxon test will generally have greater power to detect differences than the sign test.\n",
    "\n",
    "**NOTE**: Nonparametric tests often seem so convenient that researchers sometimes reduce interval data to rank order or categorical data just so that they can use the nonparametric methods. Thoughtful researchers resist unnecessary reduction in the level of measurement of their variables since reduction of levels of measurement results in **significant loss of statistical power**."
   ]
  },
  {
   "cell_type": "markdown",
   "metadata": {},
   "source": [
    "## Assumptions\n",
    "\n",
    "* Observations are assumed to be independent of each other.\n",
    "* Each observation comes from the same, continuous population.\n",
    "* The values represented are orderable (at least on an ordinal scale), so the comparisons \"greater than\", \"less than\", and \"equal to\" are meaningful."
   ]
  },
  {
   "cell_type": "markdown",
   "metadata": {},
   "source": [
    "## Method\n",
    "\n",
    "The observations in a sample of size $n$ are $x_1, x_2, \\dots , x_n$ (these observations could be paired differences); the null hypothesis is that the population median is equal to some value $M$. Suppose that $r^+$ of the observations are greater than $M$ and $r^−$ are smaller than $M$ (in the case where the sign test is being used in place of a paired $t$-test, $M$ would be zero). Values of $x$ which are exactly equal to $M$ are ignored; the sum $r^+ + r^−$ may therefore be less than $n$ -- we will denote it by $n^\\prime$.\n",
    "\n",
    "Our competing hypotheses then are:\n",
    "\n",
    "* $H_0$: The median is M\n",
    "* $H_1$: The median is not M\n",
    "\n",
    "Under the null hypothesis $H_0$ we would expect half the $x$'s to be above the median and half\n",
    "below. Therefore, under the null hypothesis both $r^+$ and $r^−$ follow a [binomial distribution](https://en.wikipedia.org/wiki/Binomial_distribution) with $p = \\frac{1}{2}$ and $n = n^\\prime$.\n",
    "\n",
    "The test procedure is as follows:\n",
    "\n",
    "1. Choose $r = \\max(r^−, r^+)$.\n",
    "\n",
    "2. Use tables of the Binomial distribution to find the probability of observing a value of $r$ or higher assuming $p = \\frac{1}{2}$ and $n = n^\\prime$. If the test is one-sided, this is your $p$-value.\n",
    "\n",
    "3.  If the test is a two-sided test, double the probabililty obtained in (2) to obtain the $p$-value."
   ]
  },
  {
   "cell_type": "markdown",
   "metadata": {},
   "source": [
    "## Significance testing\n",
    "\n",
    "The test statistic follows a binomial distribution, so a standard binomial test is used to calculate significance. The normal approximation to the binomial distribution can be used for large sample sizes, $n > 25$.\n",
    "\n",
    "For a one-sided alternative $H_1$,\n",
    "* the left-tail value is computed by $P(X \\leq r) = \\sum_{k=0}^{r} P(X = k)$, which is the p-value for the alternative $H_1: p < 0.50$.\n",
    "* the right-tail value is computed by $P(X \\geq r) = \\sum_{k=r}^{n} P(X = k)$, which is the p-value for the alternative $H_1: p > 0.50$.\n",
    "\n",
    "For a two-sided alternative $H_1$ the p-value is twice the **smaller** tail-value."
   ]
  },
  {
   "cell_type": "markdown",
   "metadata": {},
   "source": [
    "## Example 1\n",
    "\n",
    "**Q**: The table below shows the hours of relief provided by two analgesic drugs in 12 patients suffering from arthritis. Is there any evidence that one drug provides longer relief than the other?\n",
    "\n",
    "| Cases  | 1   | 2   | 3   | 4   | 5   | 6   | 7    | 8   | 9   | 10  | 11  | 12  |\n",
    "|:---    | ---:| ---:| ---:| ---:| ---:| ---:| ---: | ---:| ---:| ---:| ---:| ---:|\n",
    "| Drug A | 2.0 | 3.6 | 2.6 | 2.6 | 7.3 | 3.4 | 14.9 | 6.6 | 2.3 | 2.0 | 6.8 | 8.5 |\n",
    "| Drug B | 3.5 | 5.7 | 2.9 | 2.4 | 9.9 | 3.3 | 16.7 | 6.0 | 3.8 | 4.0 | 9.1 | 20.9|\n",
    "\n",
    "Our actual differences (Drug B - Drug A) are:\n",
    "\n",
    "| Cases  | 1   | 2   | 3   | 4   | 5   | 6   | 7    | 8   | 9   | 10  | 11  | 12  |\n",
    "|:---    | ---:| ---:| ---:| ---:| ---:| ---:| ---: | ---:| ---:| ---:| ---:| ---:|\n",
    "| (Drug B)-(Drug A) | +1.5 | +2.1 | +0.3 |  -0.2 | +2.6 |  -0.1 | +1.8 |  -0.6 | +1.5 | +2.  | +2.3 | +12.4 |\n",
    "|  Sign of difference| +    | +    | +    |  -    | +    |  -    | +    |  -    | +    | +    | + | + |\n",
    "\n",
    "Our actual median difference is 1.65 hours, but is this significantly different than 0?\n",
    "\n",
    "In this case our null hypothesis is that the median difference is zero ($M = 0$, no difference in treatment effect). Let's set $\\alpha = 0.05$.\n",
    "\n",
    "Our competing hypotheses then are:\n",
    "\n",
    "* $H_0$: The median of the paired differences $= 0$.\n",
    "* $H_1$: The median of the paired differences $\\neq 0$.\n",
    "\n",
    "### Doing the test by hand\n",
    "\n",
    "Of the $n = 12$ obesrvations, we have 9 differences larger than 0, and 3 less than 0, so $r^+ = 9$, $r^− = 3$, so our test statistic $r = \\max(r^−,r^+) = 9$.\n",
    "\n",
    "Our two-sided $p$-value (from Binomial tables with $p=1/2, n=12$) is $p = 0.146$.\n",
    "\n",
    "Probability that we would see a value as large or larger than our test statistic $r=9$\n",
    "\n",
    "$2 \\times P(X \\geq 9) = 2 \\times 0.07299804687 = 0.146$\n",
    "\n",
    "We would conclude that there is no evidence for a difference between the two treatments."
   ]
  },
  {
   "cell_type": "markdown",
   "metadata": {},
   "source": [
    "### Python\n",
    "\n",
    "Here's how we could do this test in Python with Numpy and Statsmodels"
   ]
  },
  {
   "cell_type": "code",
   "execution_count": 93,
   "metadata": {},
   "outputs": [
    {
     "name": "stdout",
     "output_type": "stream",
     "text": [
      "0.14599609375\n"
     ]
    }
   ],
   "source": [
    "import numpy as np\n",
    "from statsmodels import stats\n",
    "\n",
    "A = np.array([2.0, 3.6, 2.6, 2.6, 7.3, 3.4, 14.9, 6.6, 2.3, 2.0, 6.8, 8.5])\n",
    "B = np.array([3.5, 5.7, 2.9, 2.4, 9.9, 3.3, 16.7, 6.0, 3.8, 4.0, 9.1, 20.9])\n",
    "\n",
    "M = np.median(D)\n",
    "\n",
    "D = (B - A)\n",
    "\n",
    "r_plus  = np.count_nonzero(D > 0)\n",
    "r_minus = np.count_nonzero(D < 0)\n",
    "\n",
    "r = np.max((r_plus,r_minus))\n",
    "\n",
    "p_value = stats.proportion.binom_test(r_plus, r_plus + r_minus, prop=0.5, alternative='two-sided')\n",
    "\n",
    "print(p_value)"
   ]
  },
  {
   "cell_type": "markdown",
   "metadata": {},
   "source": [
    "### Statsmodels\n",
    "\n",
    "Statsmodels has a built-in method for the sign test"
   ]
  },
  {
   "cell_type": "code",
   "execution_count": 94,
   "metadata": {},
   "outputs": [
    {
     "name": "stdout",
     "output_type": "stream",
     "text": [
      "0.14599609375\n"
     ]
    }
   ],
   "source": [
    "_, p_value = stats.descriptivestats.sign_test(D, mu0 = 0)\n",
    "print(p_value)"
   ]
  },
  {
   "cell_type": "markdown",
   "metadata": {},
   "source": [
    "### Wilcoxon Signed Rank Test\n",
    "\n",
    "The Wilcoxon Signed Rank Test would also be appropriate in this case and is a more powerful test because it takes account of the magnitude of the differences as well as the sign.\n",
    "\n",
    "SciPy has support for the Wilcoxon Signed-rank Test"
   ]
  },
  {
   "cell_type": "code",
   "execution_count": 95,
   "metadata": {},
   "outputs": [
    {
     "name": "stdout",
     "output_type": "stream",
     "text": [
      "0.0120303584702\n"
     ]
    }
   ],
   "source": [
    "import scipy\n",
    "\n",
    "result = scipy.stats.wilcoxon(D)\n",
    "\n",
    "print(result.pvalue)"
   ]
  },
  {
   "cell_type": "markdown",
   "metadata": {},
   "source": [
    "Here we have sufficient evidence to reject the Null hypothesis that there is no difference in response."
   ]
  },
  {
   "cell_type": "markdown",
   "metadata": {},
   "source": [
    "## Example 2\n",
    "\n",
    "**Q**: Recent studies of the private practices of physicians who saw no Medicaid patients suggested that the median length of each patient visit was 22 minutes. It is believed that the median visit length in practices with a large Medicaid load is shorter than 22 minutes. A random sample of 20 visits in practices with a large Medicaid load yielded, in order, the following visit lengths:\n",
    "\n",
    "| Visit  |  1   |  2   |  3   |  4   |  5   |  6   |  7    |  8   |  9   | 10  |\n",
    "|:---    | ---:| ---:| ---:| ---:| ---:| ---:| ---: | ---:| ---:| ---:| ---:| ---:|\n",
    "|        | 9.4 | 13.4 | 15.6 | 16.2 | 16.4 | 16.8 | 18.1 | 18.7 | 18.9 | 19.1\n",
    "\n",
    "| Visit  | 11   | 12   | 13   | 14   | 15   | 16   | 17    | 18   | 19   | 20  |\n",
    "|:---    | ---:| ---:| ---:| ---:| ---:| ---:| ---: | ---:| ---:| ---:| ---:| ---:|\n",
    "|        | 19.3 | 20.1 | 20.4 | 21.6 | 21.9 | 23.4 | 23.5 | 24.8 | 24.9 | 26.8\n",
    "\n",
    "Is there sufficient evidence to conclude that the median visit length in practices with a large Medicaid load is shorter than 22 minutes?\n",
    "\n",
    "Our competing hypotheses then are:\n",
    "\n",
    "* $H_0$: Median $= 22$.\n",
    "* $H_1$: Median $< 22$.\n",
    "\n",
    "This is a one-sided test (alternative is that median is smaller). We will count "
   ]
  },
  {
   "cell_type": "code",
   "execution_count": 104,
   "metadata": {},
   "outputs": [
    {
     "name": "stdout",
     "output_type": "stream",
     "text": [
      "0.020694732666\n"
     ]
    }
   ],
   "source": [
    "import numpy as np\n",
    "from statsmodels import stats\n",
    "\n",
    "X = np.array([9.4, 13.4, 15.6, 16.2, 16.4, 16.8, 18.1, 18.7, 18.9, 19.1, 19.3, 20.1, 20.4, 21.6, 21.9, 23.4, 23.5, 24.8, 24.9, 26.8])\n",
    "\n",
    "r_plus  = np.count_nonzero(X > 22)\n",
    "r_minus = np.count_nonzero(X < 22)\n",
    "\n",
    "r = np.max((r_plus,r_minus))\n",
    "\n",
    "p_value = stats.proportion.binom_test(r_plus, r_plus + r_minus, prop=0.5, alternative='smaller')\n",
    "\n",
    "print(p_value)"
   ]
  },
  {
   "cell_type": "markdown",
   "metadata": {},
   "source": [
    "The p-value is smaller than $\\alpha = 0.05$, so we reject the null hypothesis and conclude there is sufficient evidence, at the 0.05 level, to conclude that the median visit length in practices with a large Medicaid load is shorter than 22 minutes."
   ]
  }
 ],
 "metadata": {
  "kernelspec": {
   "display_name": "Python 3",
   "language": "python",
   "name": "python3"
  },
  "language_info": {
   "codemirror_mode": {
    "name": "ipython",
    "version": 3
   },
   "file_extension": ".py",
   "mimetype": "text/x-python",
   "name": "python",
   "nbconvert_exporter": "python",
   "pygments_lexer": "ipython3",
   "version": "3.6.3"
  }
 },
 "nbformat": 4,
 "nbformat_minor": 2
}
