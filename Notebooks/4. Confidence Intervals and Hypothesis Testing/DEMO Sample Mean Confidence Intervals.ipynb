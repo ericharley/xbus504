{
 "cells": [
  {
   "cell_type": "code",
   "execution_count": 1,
   "metadata": {},
   "outputs": [
    {
     "data": {
      "application/vnd.jupyter.widget-view+json": {
       "model_id": "7913842c9ebb48099cce764d03745afe",
       "version_major": 2,
       "version_minor": 0
      },
      "text/plain": [
       "A Jupyter Widget"
      ]
     },
     "metadata": {},
     "output_type": "display_data"
    }
   ],
   "source": [
    "%matplotlib inline\n",
    "from ipywidgets import interact, interactive, fixed, interact_manual\n",
    "import ipywidgets as widgets\n",
    "\n",
    "import matplotlib.pyplot as plt\n",
    "import numpy as np\n",
    "from scipy.stats import norm\n",
    "\n",
    "def f(sample_size, num_exps, conf_lvl):\n",
    "    \n",
    "    s = sample_size\n",
    "    num_exp = num_exps\n",
    "    conf = conf_lvl\n",
    "    \n",
    "    mu = 0\n",
    "    sigma = 1\n",
    "    \n",
    "    x_axis = np.arange(-4, 4, 0.001)\n",
    "    \n",
    "    plt.plot(x_axis, norm.pdf(x_axis,loc=0,scale=1))\n",
    "    plt.grid()\n",
    "    plt.xlim(-3.5,3.5)\n",
    "    plt.ylim(-0.05,0.65)\n",
    "    plt.plot((0,0),(0,1),'b')\n",
    "    \n",
    "    count = 0\n",
    "    for i in range(num_exp):\n",
    "        y_val = 0.6 - i/num_exp\n",
    "    \n",
    "        xs = np.random.normal(mu, sigma, s)\n",
    "        x_bar = np.sum(xs) / s\n",
    "        z_p = norm.ppf((1 + conf)/2)\n",
    "        lower_ci = x_bar - z_p * sigma/np.sqrt(s)\n",
    "        upper_ci = x_bar + z_p * sigma/np.sqrt(s)\n",
    "\n",
    "        if lower_ci <= mu <= upper_ci :\n",
    "            count += 1\n",
    "            color = (0,1,0)\n",
    "        else:\n",
    "            color = (1,0,0)\n",
    "            \n",
    "        plt.plot((lower_ci,upper_ci),(y_val,y_val), c=color)\n",
    "        plt.plot(x_bar, y_val, '.', c=color, markersize=10)\n",
    "\n",
    "    title_str = 'Confidence level = %.2f%%, 0 falls in %.2f%% of intervals' % ((conf*100), (count/num_exp*100))\n",
    "    plt.title(title_str)\n",
    "    plt.show()\n",
    "    \n",
    "    \n",
    "interactive_plot = interactive(f, sample_size=(1,10,1), num_exps=(1, 50, 1), conf_lvl=(0.01,0.99,0.01))\n",
    "output = interactive_plot.children[-1]\n",
    "output.layout.height = '350px'\n",
    "interactive_plot"
   ]
  }
 ],
 "metadata": {
  "kernelspec": {
   "display_name": "Python 3",
   "language": "python",
   "name": "python3"
  },
  "language_info": {
   "codemirror_mode": {
    "name": "ipython",
    "version": 3
   },
   "file_extension": ".py",
   "mimetype": "text/x-python",
   "name": "python",
   "nbconvert_exporter": "python",
   "pygments_lexer": "ipython3",
   "version": "3.6.3"
  }
 },
 "nbformat": 4,
 "nbformat_minor": 2
}
