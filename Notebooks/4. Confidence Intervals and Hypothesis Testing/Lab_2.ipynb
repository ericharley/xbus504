{
 "cells": [
  {
   "cell_type": "markdown",
   "metadata": {},
   "source": [
    "# Lab: Confidence Intervals\n",
    "\n",
    "For a sample with size large enough, by the Central Limit Theorem we can assume its mean follows a normal distribution. If we also know the standard deviation of the population, we are able to calculate a confidence interval to estimate the population mean.\n",
    "\n",
    "A confidence interval is usually given by sample mean $m$ plus and minus a margin of error $r$:\n",
    "\n",
    "$$[m-r,m+r]$$\n",
    "\n",
    "The confidence interval is larger (less precise) for large confidence level, and smaller (more precise) for small confidence level."
   ]
  },
  {
   "cell_type": "markdown",
   "metadata": {},
   "source": [
    "Write a function **MOE** that calculates the margin of error $r$ given a sample size $n$, confidence level $p$ and standard deviation of the population $s$.\n",
    "\n",
    "\n",
    "For example,\n",
    "\n",
    "`MOE(40, 0.95, 20) == 6.1979503230456148`\n",
    "\n",
    "`MOE(40, 0.95, 10) == 3.0989751615228074`"
   ]
  },
  {
   "cell_type": "code",
   "execution_count": 10,
   "metadata": {},
   "outputs": [],
   "source": [
    "import math\n",
    "import scipy.stats as stats\n",
    "\n",
    "def MOE(n,p,s):\n",
    "    # inputs: sample size n, confidence level p and standard deviation s\n",
    "    # output: margin of error r\n",
    "    \n",
    "    z_p = stats.norm.ppf(q=(1+p)/2, loc=0, scale=1)\n",
    "    r = z_p * s / math.sqrt(n)\n",
    "    return r\n"
   ]
  },
  {
   "cell_type": "code",
   "execution_count": 12,
   "metadata": {},
   "outputs": [
    {
     "data": {
      "text/plain": [
       "(6.1979503230456148, 3.0989751615228074)"
      ]
     },
     "execution_count": 12,
     "metadata": {},
     "output_type": "execute_result"
    }
   ],
   "source": [
    "MOE(40, 0.95, 20), MOE(40, 0.95, 10)"
   ]
  },
  {
   "cell_type": "markdown",
   "metadata": {},
   "source": [
    "Write a function **Conf** that calculates the confidence level $p$ given sample size $n$, margin of error $r$ and standard deviation of the population $s$.\n",
    "\n",
    "Conf(40, 6, 20) == 0.94222042887640267\n",
    "\n",
    "Conf(40, 8, 20) == 0.98858796361399826"
   ]
  },
  {
   "cell_type": "code",
   "execution_count": null,
   "metadata": {},
   "outputs": [],
   "source": [
    "def Conf(n,r,s):\n",
    "    # inputs: sample size n, margin of error r, and standard deviation s\n",
    "    # output: confidnce level r\n",
    "\n",
    "    r = 0.0\n",
    "    #\n",
    "    # YOUR CODE HERE\n",
    "    #\n",
    "    return r\n"
   ]
  },
  {
   "cell_type": "markdown",
   "metadata": {},
   "source": [
    "Demonstrate what happens to the length of the confidence interval when you...\n",
    "\n",
    "- Increase confidence level\n",
    "- Decrease confidence level\n",
    "- Increase sample size\n",
    "- Decrease sample size"
   ]
  },
  {
   "cell_type": "markdown",
   "metadata": {},
   "source": [
    "## Putting it Together\n",
    "\n",
    "The Margin of Error and Confidence level are inversely related to each other. As the Margin of Error grows, our Confidence level shrinks. As the Margin of Error decreases, our Confidence level increases.\n",
    "\n",
    "For a given Confidence level (say 0.95), make a plot of the Margin of Error as a function of the sample size. First, fix the standard deviation. Then adjust it to see what happens."
   ]
  },
  {
   "cell_type": "code",
   "execution_count": null,
   "metadata": {},
   "outputs": [],
   "source": [
    "conf_level = 0.95\n",
    "stdev = 1\n",
    "\n",
    "x = np.linspace(1,100,100)\n",
    "y = np.array( np.zeros((100,1)) )\n",
    "\n",
    "for sample_size in range(1,100):\n",
    "    1 + 1\n",
    "    # MOE(sample_size, conf_level, stdev) "
   ]
  },
  {
   "cell_type": "markdown",
   "metadata": {},
   "source": [
    "**Q**: A psychologist estimates the standard deviation of a driver's reaction time to be 0.05 seconds. How large a sample of measurements must be taken to derive a confidence interval for the mean with margin of error at most 0.01 second, and confidence level 95%?"
   ]
  },
  {
   "cell_type": "code",
   "execution_count": null,
   "metadata": {},
   "outputs": [],
   "source": []
  },
  {
   "cell_type": "markdown",
   "metadata": {},
   "source": [
    "**Q**: The standard deviation of the diameter of rivet heads manufactured by a factory is estimated to be 0.15mm. Given a sample with size 50 and sample mean 18.45mm, what is the upper limit of the confidence interval of the distribution of the mean mean with confidence level 98%?"
   ]
  },
  {
   "cell_type": "code",
   "execution_count": null,
   "metadata": {},
   "outputs": [],
   "source": []
  },
  {
   "cell_type": "markdown",
   "metadata": {},
   "source": [
    "**Q**: We know the male students' height is approximately normal, and has standard deviation 4 inches. In a sample of 10 male students, the mean height is 68 inches. Calculate the p-value corresponding to the following null hypotheses.\n",
    "\n",
    "$H_0$: The average height of male students in this college is 70 inches.  \n",
    "$H_1$: The average height of male students in this college is not 70 inches."
   ]
  },
  {
   "cell_type": "code",
   "execution_count": null,
   "metadata": {},
   "outputs": [],
   "source": []
  },
  {
   "cell_type": "markdown",
   "metadata": {},
   "source": [
    "**Q**: What about these hypotheses?\n",
    "\n",
    "$H_0$: The average height of male students in this college is at least 70 inches.  \n",
    "$H_1$: The average height of male students in this college less than 70 inches"
   ]
  },
  {
   "cell_type": "code",
   "execution_count": null,
   "metadata": {},
   "outputs": [],
   "source": []
  }
 ],
 "metadata": {
  "kernelspec": {
   "display_name": "Python 3",
   "language": "python",
   "name": "python3"
  },
  "language_info": {
   "codemirror_mode": {
    "name": "ipython",
    "version": 3
   },
   "file_extension": ".py",
   "mimetype": "text/x-python",
   "name": "python",
   "nbconvert_exporter": "python",
   "pygments_lexer": "ipython3",
   "version": "3.6.3"
  }
 },
 "nbformat": 4,
 "nbformat_minor": 2
}
