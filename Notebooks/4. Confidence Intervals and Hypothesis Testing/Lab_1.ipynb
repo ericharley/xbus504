{
 "cells": [
  {
   "cell_type": "markdown",
   "metadata": {},
   "source": [
    "# Lab 1\n",
    "\n",
    "Create a Python program that creates 20 batches of 30 samples each where the data is drawn from a Normal distribution with a mean of 19, and a standard deviation of 1.\n",
    "\n",
    "* For each of the 20 batches, what is the mean?\n",
    "* What is the standard deviation among the means of the 20 batches?"
   ]
  },
  {
   "cell_type": "code",
   "execution_count": 11,
   "metadata": {},
   "outputs": [
    {
     "data": {
      "text/plain": [
       "1.0"
      ]
     },
     "execution_count": 11,
     "metadata": {},
     "output_type": "execute_result"
    }
   ],
   "source": [
    "import matplotlib.pyplot as plt\n",
    "import numpy as np\n",
    "from scipy.stats import norm\n",
    "\n",
    "\n",
    "## Your code here\n",
    "x = np.random.normal()\n",
    "x_bar = np.mean([1,2,3])\n",
    "np.std([1,2,3], ddof=1)"
   ]
  }
 ],
 "metadata": {
  "kernelspec": {
   "display_name": "Python 3",
   "language": "python",
   "name": "python3"
  },
  "language_info": {
   "codemirror_mode": {
    "name": "ipython",
    "version": 3
   },
   "file_extension": ".py",
   "mimetype": "text/x-python",
   "name": "python",
   "nbconvert_exporter": "python",
   "pygments_lexer": "ipython3",
   "version": "3.6.3"
  }
 },
 "nbformat": 4,
 "nbformat_minor": 2
}
